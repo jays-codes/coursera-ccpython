{
 "cells": [
  {
   "cell_type": "code",
   "execution_count": null,
   "metadata": {},
   "outputs": [],
   "source": [
    "#dictionary demo\n",
    "\n",
    "# create a dictionary\n",
    "my_dict = { 'name': 'John', 'age': 25, 'city': 'New York' }\n",
    "\n",
    "# access elements\n",
    "print(my_dict['name'])"
   ]
  },
  {
   "cell_type": "code",
   "execution_count": null,
   "metadata": {},
   "outputs": [],
   "source": [
    "import os\n",
    "\n",
    "def ping_ips(ip_list):\n",
    "    for ip in ip_list:\n",
    "        response = os.system(f\"ping -c 1 {ip}\")\n",
    "        if response == 0:\n",
    "            print(f\"{ip} is reachable\")\n",
    "        else:\n",
    "            print(f\"{ip} is not reachable\")\n",
    "\n",
    "# Example usage\n",
    "ips = ['192.168.1.1', '8.8.8.8', '256.256.256.256']\n",
    "ping_ips(ips)"
   ]
  }
 ],
 "metadata": {
  "language_info": {
   "name": "python"
  }
 },
 "nbformat": 4,
 "nbformat_minor": 2
}
