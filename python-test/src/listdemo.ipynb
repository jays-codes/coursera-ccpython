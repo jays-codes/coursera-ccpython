{
 "cells": [
  {
   "cell_type": "code",
   "execution_count": 1,
   "id": "60a05a26-88c6-4350-a414-fdfaf4ad6952",
   "metadata": {},
   "outputs": [
    {
     "name": "stdout",
     "output_type": "stream",
     "text": [
      "jay\n"
     ]
    }
   ],
   "source": [
    "print(\"jay\")"
   ]
  },
  {
   "cell_type": "code",
   "execution_count": 1,
   "id": "b29ee8dd-2dda-4181-b2ab-15a706ce3af9",
   "metadata": {},
   "outputs": [
    {
     "name": "stdout",
     "output_type": "stream",
     "text": [
      "Index: 0, Value: apple\n",
      "Index: 1, Value: banana\n",
      "Index: 2, Value: cherry\n"
     ]
    }
   ],
   "source": [
    "sample_list = ['apple', 'banana', 'cherry']\n",
    "\n",
    "for index, value in enumerate(sample_list):\n",
    "    print(f\"Index: {index}, Value: {value}\")"
   ]
  },
  {
   "cell_type": "code",
   "execution_count": 3,
   "id": "8b76ef06",
   "metadata": {},
   "outputs": [
    {
     "name": "stdout",
     "output_type": "stream",
     "text": [
      "[5, 6, 6]\n"
     ]
    }
   ],
   "source": [
    "# Create a new list with the lengths of each string in sample_list\n",
    "lengths = [len(item) for item in sample_list]\n",
    "print(lengths)"
   ]
  },
  {
   "cell_type": "code",
   "execution_count": 7,
   "id": "48ff9e95",
   "metadata": {},
   "outputs": [
    {
     "name": "stdout",
     "output_type": "stream",
     "text": [
      "[(1, 2, 3), (1, 2, 3), (1, 2, 3), (1, 2, 3), (1, 2, 3)]\n"
     ]
    }
   ],
   "source": [
    "#create a list of tuples where each tuple contains the \n",
    "# number from 1 to 3\n",
    "\n",
    "tuples = [(1,2,3) for _ in range(5)]\n",
    "print(tuples)"
   ]
  },
  {
   "cell_type": "code",
   "execution_count": 8,
   "id": "3545a6eb",
   "metadata": {},
   "outputs": [
    {
     "name": "stdout",
     "output_type": "stream",
     "text": [
      "['APPLE', 'BANANA', 'CHERRY']\n"
     ]
    }
   ],
   "source": [
    "# Use map() to convert all strings in sample_list to uppercase\n",
    "uppercase_list = list(map(str.upper, sample_list))\n",
    "print(uppercase_list)"
   ]
  },
  {
   "cell_type": "code",
   "execution_count": 9,
   "id": "fc5c898f",
   "metadata": {},
   "outputs": [
    {
     "name": "stdout",
     "output_type": "stream",
     "text": [
      "0\n",
      "1\n",
      "2\n"
     ]
    }
   ],
   "source": [
    "for x in range(len(sample_list)):\n",
    "    print(x)"
   ]
  }
 ],
 "metadata": {
  "kernelspec": {
   "display_name": "Python 3 (ipykernel)",
   "language": "python",
   "name": "python3"
  },
  "language_info": {
   "codemirror_mode": {
    "name": "ipython",
    "version": 3
   },
   "file_extension": ".py",
   "mimetype": "text/x-python",
   "name": "python",
   "nbconvert_exporter": "python",
   "pygments_lexer": "ipython3",
   "version": "3.9.15"
  }
 },
 "nbformat": 4,
 "nbformat_minor": 5
}
