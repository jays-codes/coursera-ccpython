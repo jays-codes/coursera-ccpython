{
 "cells": [
  {
   "cell_type": "code",
   "execution_count": 1,
   "id": "60a05a26-88c6-4350-a414-fdfaf4ad6952",
   "metadata": {},
   "outputs": [
    {
     "name": "stdout",
     "output_type": "stream",
     "text": [
      "jay\n"
     ]
    }
   ],
   "source": [
    "print(\"jay\")"
   ]
  },
  {
   "cell_type": "code",
   "execution_count": null,
   "id": "b29ee8dd-2dda-4181-b2ab-15a706ce3af9",
   "metadata": {},
   "outputs": [],
   "source": []
  }
 ],
 "metadata": {
  "kernelspec": {
   "display_name": "Python 3 (ipykernel)",
   "language": "python",
   "name": "python3"
  },
  "language_info": {
   "codemirror_mode": {
    "name": "ipython",
    "version": 3
   },
   "file_extension": ".py",
   "mimetype": "text/x-python",
   "name": "python",
   "nbconvert_exporter": "python",
   "pygments_lexer": "ipython3",
   "version": "3.12.4"
  }
 },
 "nbformat": 4,
 "nbformat_minor": 5
}
